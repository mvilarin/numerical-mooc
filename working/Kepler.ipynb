{
 "cells": [
  {
   "cell_type": "code",
   "execution_count": 11,
   "metadata": {
    "collapsed": true
   },
   "outputs": [],
   "source": [
    "from math import log, ceil\n",
    "import numpy\n",
    "from matplotlib import pyplot\n",
    "%matplotlib inline\n",
    "from matplotlib import rcParams\n",
    "rcParams['font.family'] = 'serif'\n",
    "rcParams['font.size'] = 16\n",
    "from matplotlib import animation\n",
    "from IPython.display import HTML"
   ]
  },
  {
   "cell_type": "code",
   "execution_count": null,
   "metadata": {
    "collapsed": true
   },
   "outputs": [],
   "source": [
    "#Determiner l'évolution de la distance Terre-Lune en se plaçant dans le référentiel de la Terre par application \n",
    "#méthode Runge Kutta 4."
   ]
  },
  {
   "cell_type": "code",
   "execution_count": 12,
   "metadata": {
    "collapsed": true
   },
   "outputs": [],
   "source": [
    "#valeurs de départ\n",
    "G=6.67408e-11  #constante gravitationelle\n",
    "mt=5.972e24    #masse de la terre\n",
    "ml=7.348e22    #masse de la Lune\n",
    "M=mt+ml\n",
    "\n",
    "t=30*24*60*60 #nombres de secondes dans 30 jours"
   ]
  },
  {
   "cell_type": "code",
   "execution_count": 76,
   "metadata": {
    "collapsed": true
   },
   "outputs": [],
   "source": [
    "#conditions initiales\n",
    "\n",
    "r_min=-362600000       #valeur minimale distance Terre-Lune\n",
    "v_initial=1083.434974  #vitesse de la Lune à l'apogée de l'orbite"
   ]
  },
  {
   "cell_type": "code",
   "execution_count": 139,
   "metadata": {
    "collapsed": true
   },
   "outputs": [],
   "source": [
    "#vecteur u\n",
    "u = numpy.empty((t,4))\n",
    "u_in=numpy.array([r_min,0.,0.,v_initial])\n",
    "u[0]=u_in"
   ]
  },
  {
   "cell_type": "code",
   "execution_count": 152,
   "metadata": {
    "collapsed": true
   },
   "outputs": [],
   "source": [
    "C=-G*M\n",
    "def f(u):\n",
    "    x=u[1]\n",
    "    y=u[3]\n",
    "    vx=(C*u[0]/(((u[0]*u[0])+(u[2]*u[2]))**(3/2)))\n",
    "    vy=(C*u[2]/(((u[0]*u[0])+(u[2]*u[2]))**(3/2)))\n",
    "    return numpy.array([x,vx,y,vy])\n"
   ]
  },
  {
   "cell_type": "code",
   "execution_count": 126,
   "metadata": {
    "collapsed": true
   },
   "outputs": [],
   "source": [
    "def rK4(u,f,dt):\n",
    "    k1=f(u)\n",
    "    k2=f(u+k1*dt/2)\n",
    "    k3=f(u+k2*dt/2)\n",
    "    k4=f(u+k3*dt)\n",
    "    return u+(k1+2*k2+2*k3+k4)*dt/6"
   ]
  },
  {
   "cell_type": "code",
   "execution_count": 160,
   "metadata": {
    "collapsed": true
   },
   "outputs": [],
   "source": [
    "for i in range(t-1):\n",
    "    u[i+1]=rK4(u[i],f,1)"
   ]
  },
  {
   "cell_type": "code",
   "execution_count": 162,
   "metadata": {},
   "outputs": [
    {
     "name": "stdout",
     "output_type": "stream",
     "text": [
      "[[ -3.62600000e+08   0.00000000e+00   0.00000000e+00   1.08343497e+03]\n",
      " [ -3.61793241e+08   1.61411716e+06   1.08263086e+03   1.08102083e+03]\n",
      " [ -3.59369359e+08   3.23546522e+06   2.16041540e+03   1.07372419e+03]\n",
      " ..., \n",
      " [ -3.40600930e+14  -1.27105240e+08  -1.80435758e+12  -6.73349009e+05]\n",
      " [ -3.40601057e+14  -1.27105238e+08  -1.80435826e+12  -6.73348999e+05]\n",
      " [ -3.40601184e+14  -1.27105236e+08  -1.80435893e+12  -6.73348990e+05]]\n"
     ]
    }
   ],
   "source": [
    "print u"
   ]
  },
  {
   "cell_type": "code",
   "execution_count": 194,
   "metadata": {
    "collapsed": true
   },
   "outputs": [],
   "source": [
    "x=u[:,0]    #projection sur les abscisses de la position de la Lune par rapport à la Terre\n",
    "y=u[:,2]    #projection sur les ordonnées de la position de la Lune par rapport à la Terre\n",
    "\n",
    "\n",
    "\n"
   ]
  },
  {
   "cell_type": "code",
   "execution_count": 167,
   "metadata": {},
   "outputs": [
    {
     "data": {
      "text/plain": [
       "170300848562636.31"
      ]
     },
     "execution_count": 167,
     "metadata": {},
     "output_type": "execute_result"
    }
   ],
   "source": [
    "#2) Que vaut le demi grand axe a et le demi grand axe b selon vos calculs?\n",
    "# demi grand axe a: a= ((max(r1))+(min(r1)))/2\n",
    "\n",
    "a= (abs(min(x))+(max(x)))/2\n",
    "a\n"
   ]
  },
  {
   "cell_type": "code",
   "execution_count": 168,
   "metadata": {},
   "outputs": [
    {
     "data": {
      "text/plain": [
       "1.0612552131377887e+29"
      ]
     },
     "execution_count": 168,
     "metadata": {},
     "output_type": "execute_result"
    }
   ],
   "source": [
    "#3) Que vaut la période de l'orbite?\n",
    "from math import pi\n",
    "G=9.67408*pow(10,-11)\n",
    "Mt=5.972*pow(10,24)\n",
    "ml=7.348*pow(10,22)\n",
    "P=(2*pi)*(a*a*a/((G*(Mt+ml))**1/2)) #en appliquant la formule pour le calcul de la période de l'orbite \n",
    "P                                   #valeur de la période "
   ]
  },
  {
   "cell_type": "code",
   "execution_count": 170,
   "metadata": {},
   "outputs": [
    {
     "data": {
      "image/png": "[encoded data removed]",
      "text/plain": [
       "<matplotlib.figure.Figure at 0x13604ba8>"
      ]
     },
     "metadata": {},
     "output_type": "display_data"
    }
   ],
   "source": [
    "plt.plot(x,y)\n",
    "plt.show()"
   ]
  },
  {
   "cell_type": "code",
   "execution_count": null,
   "metadata": {
    "collapsed": true
   },
   "outputs": [],
   "source": []
  }
 ],
 "metadata": {
  "kernelspec": {
   "display_name": "Python 2",
   "language": "python",
   "name": "python2"
  },
  "language_info": {
   "codemirror_mode": {
    "name": "ipython",
    "version": 2
   },
   "file_extension": ".py",
   "mimetype": "text/x-python",
   "name": "python",
   "nbconvert_exporter": "python",
   "pygments_lexer": "ipython2",
   "version": "2.7.14"
  }
 },
 "nbformat": 4,
 "nbformat_minor": 2
}
